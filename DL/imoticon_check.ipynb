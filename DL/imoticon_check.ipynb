{
 "cells": [
  {
   "cell_type": "code",
   "execution_count": 23,
   "id": "c4b6ae6c",
   "metadata": {},
   "outputs": [
    {
     "name": "stderr",
     "output_type": "stream",
     "text": [
      "100%|██████████| 769/769 [00:01<00:00, 480.74it/s]\n",
      "100%|██████████| 250/250 [00:00<00:00, 561.52it/s]\n"
     ]
    }
   ],
   "source": [
    "import os\n",
    "import pandas as pd\n",
    "import numpy as np\n",
    "from PIL import Image\n",
    "from tqdm import tqdm\n",
    "\n",
    "# CSV 파일 경로\n",
    "train_csv_path = './imoticon/train.csv'\n",
    "test_csv_path = './imoticon/test.csv'\n",
    "\n",
    "# 이미지 저장 경로\n",
    "train_img_dir = 'target_train_images'\n",
    "test_img_dir = 'target_test_images'\n",
    "\n",
    "# 디렉토리 생성 함수\n",
    "def make_dir(path):\n",
    "    if not os.path.exists(path):\n",
    "        os.makedirs(path)\n",
    "\n",
    "# 이미지 저장 함수\n",
    "def save_images_from_csv(csv_path, img_dir, is_train=True):\n",
    "    df = pd.read_csv(csv_path)\n",
    "    \n",
    "    # 필요한 디렉토리 생성\n",
    "    if is_train:\n",
    "        labels = df['label'].unique()\n",
    "        for label in labels:\n",
    "            make_dir(os.path.join(img_dir, label))\n",
    "    else:\n",
    "        make_dir(img_dir)\n",
    "    \n",
    "    for idx, row in tqdm(df.iterrows(), total=len(df)):\n",
    "        img_array = np.array(row.iloc[2:].values if is_train else row.iloc[1:].values, dtype=np.uint8).reshape(32, 32)\n",
    "        img = Image.fromarray(img_array, mode='L')  # 'L' for grayscale\n",
    "        \n",
    "        if is_train:\n",
    "            label = row['label']\n",
    "            img_path = os.path.join(img_dir, label, f\"{row['ID']}.png\")\n",
    "        else:\n",
    "            img_path = os.path.join(img_dir, f\"{row['ID']}.png\")\n",
    "        \n",
    "        img.save(img_path)\n",
    "\n",
    "# 실행\n",
    "make_dir(train_img_dir)\n",
    "make_dir(test_img_dir)\n",
    "\n",
    "save_images_from_csv(train_csv_path, train_img_dir, is_train=True)\n",
    "save_images_from_csv(test_csv_path, test_img_dir, is_train=False)\n"
   ]
  },
  {
   "cell_type": "code",
   "execution_count": null,
   "id": "d9dcf01c",
   "metadata": {},
   "outputs": [],
   "source": [
    "import os\n",
    "import shutil\n",
    "from sklearn.model_selection import train_test_split\n",
    "\n",
    "# 원본 데이터셋 폴더 경로\n",
    "dataset_folder = \"/content/target_train_images\"\n",
    "\n",
    "# 이동할 폴더 경로\n",
    "train_folder = \"/content/train\"\n",
    "val_folder = \"/content/valid\"\n",
    "\n",
    "# 클래스 폴더 목록 생성\n",
    "class_folders = [folder for folder in os.listdir(dataset_folder) if os.path.isdir(os.path.join(dataset_folder, folder))]\n",
    "\n",
    "# 각 클래스 폴더의 데이터 이동\n",
    "for class_folder in class_folders:\n",
    "    class_folder_path = os.path.join(dataset_folder, class_folder)\n",
    "\n",
    "    # 클래스 폴더 안의 파일 목록 가져오기\n",
    "    file_list = os.listdir(class_folder_path)\n",
    "\n",
    "    # 훈련 및 검증 데이터로 나누기\n",
    "    train_files, val_files = train_test_split(file_list, test_size=0.2, random_state=2025)\n",
    "\n",
    "    # 훈련 데이터를 train 폴더로 이동\n",
    "    for file_name in train_files:\n",
    "        src = os.path.join(class_folder_path, file_name)\n",
    "        dst = os.path.join(train_folder, class_folder, file_name)\n",
    "        os.makedirs(os.path.dirname(dst), exist_ok=True)\n",
    "        shutil.move(src, dst)\n",
    "\n",
    "    # 검증 데이터를 val 폴더로 이동\n",
    "    for file_name in val_files:\n",
    "        src = os.path.join(class_folder_path, file_name)\n",
    "        dst = os.path.join(val_folder, class_folder, file_name)\n",
    "        os.makedirs(os.path.dirname(dst), exist_ok=True)\n",
    "        shutil.move(src, dst)\n"
   ]
  }
 ],
 "metadata": {
  "kernelspec": {
   "display_name": "python3.11",
   "language": "python",
   "name": "python3"
  },
  "language_info": {
   "codemirror_mode": {
    "name": "ipython",
    "version": 3
   },
   "file_extension": ".py",
   "mimetype": "text/x-python",
   "name": "python",
   "nbconvert_exporter": "python",
   "pygments_lexer": "ipython3",
   "version": "3.11.8"
  }
 },
 "nbformat": 4,
 "nbformat_minor": 5
}
